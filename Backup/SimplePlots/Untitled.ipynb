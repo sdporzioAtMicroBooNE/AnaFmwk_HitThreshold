{
 "cells": [
  {
   "cell_type": "code",
   "execution_count": 44,
   "metadata": {
    "collapsed": false
   },
   "outputs": [
    {
     "name": "stdout",
     "output_type": "stream",
     "text": [
      "['./Data_MCC8_histoFile_Tracy_AnaOnly_2.08_2.08_2.6.root', './MC_MCC7_histoFile_Tracy_AnaOnly_2.08_2.08_2.6.root', './Data_MCC7_histoFile_Tracy_AnaOnly_2.08_2.08_2.6.root', './histoFile_Tracy_AnaOnly_2.08_2.08_2.6.root']\n"
     ]
    }
   ],
   "source": [
    "%matplotlib inline\n",
    "import os, sys, json, ROOT\n",
    "import numpy as np\n",
    "import pandas as pd\n",
    "import root_numpy as rnp\n",
    "import matplotlib.pyplot as plt\n",
    "from collections import OrderedDict as OD\n",
    "from ipywidgets import interact, interactive, fixed, widgets\n",
    "from NotebookUtils.ProgressBar import LogProgress as LP\n",
    "plt.rcParams['font.family']='serif'\n",
    "plt.rcParams['font.weight']='light'\n",
    "plt.rcParams['font.size']=14\n",
    "figsize = (12,6)\n",
    "\n",
    "inDir = './'\n",
    "extension = '.root'\n",
    "\n",
    "\n",
    "def hist2myarray(histo):\n",
    "    array = [[],[]]\n",
    "    n = histo.GetNbinsX()\n",
    "    name = histo.GetName()\n",
    "    for i in range(n):\n",
    "        array[0].append(histo.GetBinLowEdge(i+1))\n",
    "        array[1].append(histo.GetBinContent(i+1))\n",
    "    npArr = np.array(array)\n",
    "    return npArr\n",
    "\n",
    "\n",
    "fileNames = [inDir+fileName for fileName in os.listdir(inDir) if extension in fileName[-1*len(extension):]]\n",
    "for fileName in fileNames:\n",
    "    threshold = \n",
    "    tFile = ROOT.TFile(fileName,\"READ\")\n",
    "    tDir = tFile.Get('TrackHitAna').Get('FitTrackHits')\n",
    "    tHist = tDir.Get('TrackLength')\n",
    "    arr = hist2myarray(tHist)\n"
   ]
  },
  {
   "cell_type": "code",
   "execution_count": null,
   "metadata": {
    "collapsed": true
   },
   "outputs": [],
   "source": []
  }
 ],
 "metadata": {
  "kernelspec": {
   "display_name": "Python 2",
   "language": "python",
   "name": "python2"
  },
  "language_info": {
   "codemirror_mode": {
    "name": "ipython",
    "version": 2
   },
   "file_extension": ".py",
   "mimetype": "text/x-python",
   "name": "python",
   "nbconvert_exporter": "python",
   "pygments_lexer": "ipython2",
   "version": "2.7.10"
  }
 },
 "nbformat": 4,
 "nbformat_minor": 0
}
