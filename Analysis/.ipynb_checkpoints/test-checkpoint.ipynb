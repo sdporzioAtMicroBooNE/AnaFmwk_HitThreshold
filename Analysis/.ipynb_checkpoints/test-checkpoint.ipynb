{
 "cells": [
  {
   "cell_type": "code",
   "execution_count": 1,
   "metadata": {
    "collapsed": false
   },
   "outputs": [
    {
     "ename": "OSError",
     "evalue": "[Errno 2] No such file or directory: '../Data/TextFormat/'",
     "output_type": "error",
     "traceback": [
      "\u001b[0;31m\u001b[0m",
      "\u001b[0;31mOSError\u001b[0mTraceback (most recent call last)",
      "\u001b[0;32m<ipython-input-1-9eab6cb7c1ef>\u001b[0m in \u001b[0;36m<module>\u001b[0;34m()\u001b[0m\n\u001b[1;32m     63\u001b[0m \u001b[0minDir\u001b[0m \u001b[0;34m=\u001b[0m \u001b[0;34m'../Data/TextFormat/'\u001b[0m\u001b[0;34m\u001b[0m\u001b[0m\n\u001b[1;32m     64\u001b[0m \u001b[0mtrackLengths\u001b[0m \u001b[0;34m=\u001b[0m \u001b[0;34m[\u001b[0m\u001b[0;36m200\u001b[0m\u001b[0;34m,\u001b[0m\u001b[0;36m225\u001b[0m\u001b[0;34m,\u001b[0m\u001b[0;36m250\u001b[0m\u001b[0;34m,\u001b[0m\u001b[0;36m275\u001b[0m\u001b[0;34m]\u001b[0m\u001b[0;34m\u001b[0m\u001b[0m\n\u001b[0;32m---> 65\u001b[0;31m \u001b[0mPlotAllData\u001b[0m\u001b[0;34m(\u001b[0m\u001b[0minDir\u001b[0m\u001b[0;34m,\u001b[0m\u001b[0mtrackLengths\u001b[0m\u001b[0;34m,\u001b[0m\u001b[0;34m'Physics'\u001b[0m\u001b[0;34m,\u001b[0m\u001b[0;34m'MCC8'\u001b[0m\u001b[0;34m)\u001b[0m\u001b[0;34m\u001b[0m\u001b[0m\n\u001b[0m\u001b[1;32m     66\u001b[0m \u001b[0mPlotAllData\u001b[0m\u001b[0;34m(\u001b[0m\u001b[0minDir\u001b[0m\u001b[0;34m,\u001b[0m\u001b[0mtrackLengths\u001b[0m\u001b[0;34m,\u001b[0m\u001b[0;34m'Physics'\u001b[0m\u001b[0;34m,\u001b[0m\u001b[0;34m'MCC7'\u001b[0m\u001b[0;34m)\u001b[0m\u001b[0;34m\u001b[0m\u001b[0m\n",
      "\u001b[0;32m<ipython-input-1-9eab6cb7c1ef>\u001b[0m in \u001b[0;36mPlotAllData\u001b[0;34m(inDir, trackLengths, dataType, dataVersion)\u001b[0m\n\u001b[1;32m     48\u001b[0m     \u001b[0mfig\u001b[0m \u001b[0;34m=\u001b[0m \u001b[0mplt\u001b[0m\u001b[0;34m.\u001b[0m\u001b[0mfigure\u001b[0m\u001b[0;34m(\u001b[0m\u001b[0mfigsize\u001b[0m\u001b[0;34m=\u001b[0m\u001b[0mfigsize\u001b[0m\u001b[0;34m)\u001b[0m\u001b[0;34m\u001b[0m\u001b[0m\n\u001b[1;32m     49\u001b[0m     \u001b[0;32mfor\u001b[0m \u001b[0mtrackLength\u001b[0m \u001b[0;32min\u001b[0m \u001b[0mtrackLengths\u001b[0m\u001b[0;34m:\u001b[0m\u001b[0;34m\u001b[0m\u001b[0m\n\u001b[0;32m---> 50\u001b[0;31m         \u001b[0mdata\u001b[0m  \u001b[0;34m=\u001b[0m \u001b[0mGetData\u001b[0m\u001b[0;34m(\u001b[0m\u001b[0minDir\u001b[0m\u001b[0;34m,\u001b[0m\u001b[0mtrackLength\u001b[0m\u001b[0;34m,\u001b[0m\u001b[0mdataType\u001b[0m\u001b[0;34m,\u001b[0m\u001b[0mdataVersion\u001b[0m\u001b[0;34m)\u001b[0m\u001b[0;34m\u001b[0m\u001b[0m\n\u001b[0m\u001b[1;32m     51\u001b[0m         \u001b[0mplt\u001b[0m\u001b[0;34m.\u001b[0m\u001b[0mplot\u001b[0m\u001b[0;34m(\u001b[0m\u001b[0mdata\u001b[0m\u001b[0;34m[\u001b[0m\u001b[0;36m0\u001b[0m\u001b[0;34m]\u001b[0m\u001b[0;34m,\u001b[0m\u001b[0mdata\u001b[0m\u001b[0;34m[\u001b[0m\u001b[0;36m1\u001b[0m\u001b[0;34m]\u001b[0m\u001b[0;34m,\u001b[0m\u001b[0mmarker\u001b[0m\u001b[0;34m=\u001b[0m\u001b[0;34m'o'\u001b[0m\u001b[0;34m,\u001b[0m\u001b[0mlabel\u001b[0m\u001b[0;34m=\u001b[0m\u001b[0;34m'%s cm'\u001b[0m \u001b[0;34m%\u001b[0m\u001b[0mtrackLength\u001b[0m\u001b[0;34m)\u001b[0m\u001b[0;34m\u001b[0m\u001b[0m\n\u001b[1;32m     52\u001b[0m     \u001b[0mplt\u001b[0m\u001b[0;34m.\u001b[0m\u001b[0mylim\u001b[0m\u001b[0;34m(\u001b[0m\u001b[0;36m0\u001b[0m\u001b[0;34m,\u001b[0m\u001b[0;36m1.1\u001b[0m\u001b[0;34m)\u001b[0m\u001b[0;34m\u001b[0m\u001b[0m\n",
      "\u001b[0;32m<ipython-input-1-9eab6cb7c1ef>\u001b[0m in \u001b[0;36mGetData\u001b[0;34m(inDir, trackLength, dataType, dataVersion)\u001b[0m\n\u001b[1;32m     31\u001b[0m     \u001b[0morigThres\u001b[0m \u001b[0;34m=\u001b[0m \u001b[0;34m[\u001b[0m\u001b[0;36m2.6\u001b[0m\u001b[0;34m,\u001b[0m\u001b[0;36m2.6\u001b[0m\u001b[0;34m,\u001b[0m\u001b[0;36m3.25\u001b[0m\u001b[0;34m]\u001b[0m\u001b[0;34m\u001b[0m\u001b[0m\n\u001b[1;32m     32\u001b[0m     \u001b[0mref\u001b[0m \u001b[0;34m=\u001b[0m \u001b[0;36m0\u001b[0m\u001b[0;34m\u001b[0m\u001b[0m\n\u001b[0;32m---> 33\u001b[0;31m     \u001b[0mfileNames\u001b[0m \u001b[0;34m=\u001b[0m \u001b[0;34m[\u001b[0m\u001b[0minDir\u001b[0m\u001b[0;34m+\u001b[0m\u001b[0mfileName\u001b[0m \u001b[0;32mfor\u001b[0m \u001b[0mfileName\u001b[0m \u001b[0;32min\u001b[0m \u001b[0mos\u001b[0m\u001b[0;34m.\u001b[0m\u001b[0mlistdir\u001b[0m\u001b[0;34m(\u001b[0m\u001b[0minDir\u001b[0m\u001b[0;34m)\u001b[0m \u001b[0;32mif\u001b[0m \u001b[0mSelectFileName\u001b[0m\u001b[0;34m(\u001b[0m\u001b[0mfileName\u001b[0m\u001b[0;34m,\u001b[0m\u001b[0mdataType\u001b[0m\u001b[0;34m,\u001b[0m\u001b[0mdataVersion\u001b[0m\u001b[0;34m,\u001b[0m\u001b[0mextension\u001b[0m\u001b[0;34m)\u001b[0m\u001b[0;34m]\u001b[0m\u001b[0;34m\u001b[0m\u001b[0m\n\u001b[0m\u001b[1;32m     34\u001b[0m     \u001b[0mdata\u001b[0m \u001b[0;34m=\u001b[0m \u001b[0;34m[\u001b[0m\u001b[0;34m[\u001b[0m\u001b[0;34m]\u001b[0m\u001b[0;34m,\u001b[0m\u001b[0;34m[\u001b[0m\u001b[0;34m]\u001b[0m\u001b[0;34m]\u001b[0m\u001b[0;34m\u001b[0m\u001b[0m\n\u001b[1;32m     35\u001b[0m     \u001b[0;32mfor\u001b[0m \u001b[0mi\u001b[0m\u001b[0;34m,\u001b[0m\u001b[0mfileName\u001b[0m \u001b[0;32min\u001b[0m \u001b[0menumerate\u001b[0m\u001b[0;34m(\u001b[0m\u001b[0mfileNames\u001b[0m\u001b[0;34m)\u001b[0m\u001b[0;34m:\u001b[0m\u001b[0;34m\u001b[0m\u001b[0m\n",
      "\u001b[0;31mOSError\u001b[0m: [Errno 2] No such file or directory: '../Data/TextFormat/'"
     ]
    },
    {
     "data": {
      "text/plain": [
       "<matplotlib.figure.Figure at 0x111504990>"
      ]
     },
     "metadata": {},
     "output_type": "display_data"
    }
   ],
   "source": [
    "%matplotlib inline\n",
    "import os, sys, json\n",
    "import numpy as np\n",
    "import pandas as pd\n",
    "import root_numpy as rnp\n",
    "import matplotlib.pyplot as plt\n",
    "from collections import OrderedDict as OD\n",
    "from ipywidgets import interact, interactive, fixed, widgets\n",
    "from NotebookUtils.ProgressBar import LogProgress as LP\n",
    "plt.rcParams['font.family']='serif'\n",
    "plt.rcParams['font.weight']='light'\n",
    "plt.rcParams['font.size']=14\n",
    "figsize = (12,6)\n",
    "\n",
    "def SelectFileName(fileName,dataType,dataVersion,extension):\n",
    "    if fileName.split('/')[-1].split('_')[-6]==dataVersion\\\n",
    "    and fileName.split('/')[-1].split('_')[-5]==dataType\\\n",
    "    and fileName.split('.')[-1]==extension:\n",
    "        return True\n",
    "    else:\n",
    "        return False\n",
    "\n",
    "def ExtractThresholdsFromFilename(fileName,extension):\n",
    "    thres = fileName.split('/')[-1][:-(len(extension)+1)].split('_')[-3:]\n",
    "    return [float(thres[-3]),float(thres[-2]),float(thres[-1])]\n",
    "\n",
    "def GetCutSum(dataFrame,trackLength):\n",
    "    cutSum = dataFrame[dataFrame['TrackLength']>trackLength].sum()['Count']\n",
    "    return cutSum\n",
    "\n",
    "def GetData(inDir,trackLength,dataType,dataVersion):\n",
    "    extension = 'csv'\n",
    "    origThres = [2.6,2.6,3.25]\n",
    "    ref = 0\n",
    "    fileNames = [inDir+fileName for fileName in os.listdir(inDir) if SelectFileName(fileName,dataType,dataVersion,extension)]\n",
    "    data = [[],[]]\n",
    "    for i,fileName in enumerate(fileNames):\n",
    "        thres = ExtractThresholdsFromFilename(fileName,extension)\n",
    "        ratio = thres[0]/float(origThres[0])\n",
    "        data[0].append(ratio)\n",
    "        inData = pd.read_csv(fileName)\n",
    "        cutSum = GetCutSum(inData,trackLength)\n",
    "        data[1].append(cutSum)\n",
    "        if ratio==1: ref = cutSum\n",
    "    for i in range(len(data[1])):\n",
    "        data[1][i] = data[1][i]/float(ref)\n",
    "    return data\n",
    "\n",
    "def PlotAllData(inDir,trackLengths,dataType,dataVersion):\n",
    "    fig = plt.figure(figsize=figsize)\n",
    "    for trackLength in trackLengths:\n",
    "        data  = GetData(inDir,trackLength,dataType,dataVersion)\n",
    "        plt.plot(data[0],data[1],marker='o',label='%s cm' %trackLength)\n",
    "    plt.ylim(0,1.1)\n",
    "    plt.title('%s [%s]' %(dataType,dataVersion))\n",
    "    plt.xlabel('PH Threshold Increase/Decrease [%]')\n",
    "    plt.ylabel('Efficiency')\n",
    "    plt.axvline(1.,color='black',ls='--')\n",
    "    plt.legend(loc='best')\n",
    "    plt.grid()\n",
    "    plt.show()\n",
    "    \n",
    "    \n",
    "    \n",
    "inDir = '../Data/TextFormat/'\n",
    "trackLengths = [200,225,250,275]\n",
    "PlotAllData(inDir,trackLengths,'Physics','MCC8')\n",
    "PlotAllData(inDir,trackLengths,'Physics','MCC7')"
   ]
  }
 ],
 "metadata": {
  "anaconda-cloud": {},
  "kernelspec": {
   "display_name": "Python 2",
   "language": "python",
   "name": "python2"
  }
 },
 "nbformat": 4,
 "nbformat_minor": 0
}
